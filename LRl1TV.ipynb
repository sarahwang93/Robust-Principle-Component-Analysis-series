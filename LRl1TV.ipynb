{
 "cells": [
  {
   "cell_type": "code",
   "execution_count": 6,
   "metadata": {},
   "outputs": [
    {
     "name": "stdout",
     "output_type": "stream",
     "text": [
      "(10, 480, 720)\n"
     ]
    }
   ],
   "source": [
    "import numpy as np\n",
    "import cv2\n",
    "from skimage import color\n",
    "\n",
    "def read_video_cv2(n_frames=10):\n",
    "    cap = cv2.VideoCapture(\"./survelliance/09152008flight2tape1_7.mpg\")\n",
    "    all = []\n",
    "    i = 0\n",
    "    while cap.isOpened() and i < n_frames:\n",
    "        ret, frame = cap.read()\n",
    "        img = color.rgb2gray(frame)\n",
    "        arr = np.array(img)\n",
    "        all.append(arr)\n",
    "        i += 1\n",
    "    return np.array(all)\n",
    "\n",
    "video_seg = read_video_cv2()\n",
    "print(video_seg.shape)"
   ]
  },
  {
   "cell_type": "code",
   "execution_count": 3,
   "metadata": {},
   "outputs": [
    {
     "ename": "NameError",
     "evalue": "name 'np' is not defined",
     "output_type": "error",
     "traceback": [
      "\u001b[0;31m---------------------------------------------------------------------------\u001b[0m",
      "\u001b[0;31mNameError\u001b[0m                                 Traceback (most recent call last)",
      "\u001b[0;32m<ipython-input-3-8fadaebc2ba3>\u001b[0m in \u001b[0;36m<module>\u001b[0;34m()\u001b[0m\n\u001b[1;32m      1\u001b[0m \u001b[0;32mimport\u001b[0m \u001b[0mtensorflow\u001b[0m \u001b[0;32mas\u001b[0m \u001b[0mtf\u001b[0m\u001b[0;34m\u001b[0m\u001b[0;34m\u001b[0m\u001b[0m\n\u001b[1;32m      2\u001b[0m \u001b[0;34m\u001b[0m\u001b[0m\n\u001b[0;32m----> 3\u001b[0;31m \u001b[0mK\u001b[0m \u001b[0;34m=\u001b[0m \u001b[0mnp\u001b[0m\u001b[0;34m.\u001b[0m\u001b[0mones\u001b[0m\u001b[0;34m(\u001b[0m\u001b[0;34m(\u001b[0m\u001b[0;36m30\u001b[0m \u001b[0;34m*\u001b[0m \u001b[0;36m20\u001b[0m\u001b[0;34m,\u001b[0m \u001b[0;36m10\u001b[0m\u001b[0;34m)\u001b[0m\u001b[0;34m)\u001b[0m\u001b[0;34m\u001b[0m\u001b[0;34m\u001b[0m\u001b[0m\n\u001b[0m\u001b[1;32m      4\u001b[0m \u001b[0mA\u001b[0m \u001b[0;34m=\u001b[0m \u001b[0mnp\u001b[0m\u001b[0;34m.\u001b[0m\u001b[0mones\u001b[0m\u001b[0;34m(\u001b[0m\u001b[0;34m(\u001b[0m\u001b[0;36m30\u001b[0m \u001b[0;34m*\u001b[0m \u001b[0;36m20\u001b[0m\u001b[0;34m,\u001b[0m \u001b[0;36m10\u001b[0m\u001b[0;34m)\u001b[0m\u001b[0;34m)\u001b[0m\u001b[0;34m\u001b[0m\u001b[0;34m\u001b[0m\u001b[0m\n\u001b[1;32m      5\u001b[0m \u001b[0mC\u001b[0m \u001b[0;34m=\u001b[0m \u001b[0mnp\u001b[0m\u001b[0;34m.\u001b[0m\u001b[0mones\u001b[0m\u001b[0;34m(\u001b[0m\u001b[0;34m(\u001b[0m\u001b[0;36m30\u001b[0m \u001b[0;34m*\u001b[0m \u001b[0;36m20\u001b[0m\u001b[0;34m,\u001b[0m \u001b[0;36m10\u001b[0m\u001b[0;34m)\u001b[0m\u001b[0;34m)\u001b[0m\u001b[0;34m\u001b[0m\u001b[0;34m\u001b[0m\u001b[0m\n",
      "\u001b[0;31mNameError\u001b[0m: name 'np' is not defined"
     ]
    }
   ],
   "source": [
    "import tensorflow as tf\n",
    "\n",
    "K = np.ones((30 * 20, 10))\n",
    "A = np.ones((30 * 20, 10))\n",
    "C = np.ones((30 * 20, 10))\n",
    "U = np.ones((30 * 20, 10))\n",
    "Lambda1 = np.ones((30 * 20, 10))\n",
    "Lambda2 = np.ones((30 * 20, 10))\n",
    "\n",
    "def k_subproblem(K, A, C, Lambda1):\n",
    "    mu = 0.1\n",
    "    K_next = tf.norm(K, ord='euclidean') + mu * (tf.norm(K - (A - C + Lambda1/mu), ord='euclidean') ** 2)\n",
    "    return K_next"
   ]
  },
  {
   "cell_type": "code",
   "execution_count": null,
   "metadata": {},
   "outputs": [],
   "source": [
    "K_next = k_subproblem(K, A, C, Lambda1)"
   ]
  },
  {
   "cell_type": "code",
   "execution_count": null,
   "metadata": {},
   "outputs": [],
   "source": [
    "# the second parameter of shrinkage operator should be defined as param_lambda/(2*mu)\n",
    "\n",
    "def shrinkage_operator(x):\n",
    "    # the shape of x is 1080 * 1920\n",
    "    epsilon = np.zeros((600, 10))\n",
    "    para1 = np.sign(x)\n",
    "    para2 = np.maximum((np.fabs(x)-epsilon), np.zeros((600, 10)))\n",
    "    return np.multiply(para1, para2)"
   ]
  },
  {
   "cell_type": "code",
   "execution_count": null,
   "metadata": {},
   "outputs": [],
   "source": [
    "shrinkage = shrinkage_operator(K)"
   ]
  },
  {
   "cell_type": "code",
   "execution_count": null,
   "metadata": {},
   "outputs": [],
   "source": [
    "shrinkage.shape"
   ]
  },
  {
   "cell_type": "code",
   "execution_count": null,
   "metadata": {},
   "outputs": [],
   "source": [
    "print(video_seg[0].shape[1])\n",
    "frame = video_seg.shape[2]\n",
    "np.max((video_seg[0].shape[0], video_seg[0].shape[1]))\n",
    "param_lambda = 8 / np.sqrt( np.max((video_seg[0].shape[0], video_seg[0].shape[1])) * frame)\n",
    "print(param_lambda)\n",
    "\n",
    "def c_subproblem(C, A, K, U, Lambda1, Lambda2):\n",
    "    mu = 0.01\n",
    "    C_next_1 = Lambda1 * tf.norm(C, ord=1) + mu * (tf.norm(C - ((A - K + U)/2 + (Lambda1 + Lambda2)/2*mu), ord='euclidean') ** 2)\n",
    "    C_next_2 = shrinkage_operator((A - K - U)/2 + (Lambda1 + Lambda2)/2*mu)\n",
    "    return C_next_1, C_next_2"
   ]
  },
  {
   "cell_type": "code",
   "execution_count": null,
   "metadata": {},
   "outputs": [],
   "source": [
    "c_subproblem(C, A, K, U, Lambda1, Lambda2)"
   ]
  },
  {
   "cell_type": "code",
   "execution_count": null,
   "metadata": {},
   "outputs": [],
   "source": [
    "def tv_norm(input_matrix):\n",
    "    res_matrix = np.zeros((input_matrix.shape[0], input_matrix.shape[1]))\n",
    "    print(res_matrix.shape)\n",
    "    for i in range(0, input_matrix.shape[0]):\n",
    "        for j in range(0, input_matrix.shape[1]):\n",
    "            if i+1 < 480 and j+1 < 720:\n",
    "                res_matrix[i][j] = np.sqrt(np.abs(input_matrix[i+1][j] - input_matrix[i][j]) ** 2 + np.abs(input_matrix[i][j+1] - input_matrix[i][j]) ** 2)\n",
    "    return res_matrix\n",
    "        \n",
    "    \n",
    "def update_multiplier(Lambda1, Lambda2):\n",
    "    Lambda1_next = Lambda1 + mu * (A - K - C)\n",
    "    Lambda2_next = Lambda2 + mu * (U - C)\n",
    "    return Lambda1_next, Lambda2_next\n",
    "    "
   ]
  },
  {
   "cell_type": "code",
   "execution_count": null,
   "metadata": {},
   "outputs": [],
   "source": [
    "import torch\n",
    "print(U.shape)\n",
    "\n",
    "\n",
    "def tv_norm_seg(input_matrix):\n",
    "    res_matrix = np.zeros((input_matrix.shape[0], input_matrix.shape[1]))\n",
    "    print(torch.tensor(res_matrix).shape)\n",
    "    for i in range(0, input_matrix.shape[0]):\n",
    "        for j in range(0, input_matrix.shape[1]):\n",
    "            if i+1 < 600 and j+1 < 10:\n",
    "                res_matrix[i][j] = np.sqrt(np.abs(input_matrix[i+1][j] - input_matrix[i][j]) ** 2 + np.abs(input_matrix[i][j+1] - input_matrix[i][j]) ** 2)\n",
    "    return res_matrix\n",
    "\n",
    "mu = 10 ** (-4)\n",
    "def u_subproblem(U, Lambda2, C):\n",
    "    U_next_1 = tv_norm_seg(U) + mu/2 * tf.norm(U - (C - Lambda2/mu), ord='euclidean') ** 2\n",
    "    U_next_2 = shrinkage_operator(tf.norm(U - (C - Lambda2/mu), ord='euclidean') ** 2)\n",
    "    return U_next_1, U_next_2\n",
    "\n",
    "u_subproblem(U, Lambda2, C)"
   ]
  },
  {
   "cell_type": "code",
   "execution_count": null,
   "metadata": {},
   "outputs": [],
   "source": [
    "update_multiplier(Lambda1, Lambda2)"
   ]
  },
  {
   "cell_type": "code",
   "execution_count": null,
   "metadata": {},
   "outputs": [],
   "source": [
    "print(video_seg[0].shape)\n",
    "tv_norm(video_seg[0])"
   ]
  },
  {
   "cell_type": "code",
   "execution_count": null,
   "metadata": {},
   "outputs": [],
   "source": [
    "print(C.shape)\n",
    "u_subproblem(U, Lambda2, C)"
   ]
  },
  {
   "cell_type": "code",
   "execution_count": null,
   "metadata": {},
   "outputs": [],
   "source": [
    "update_multiplier"
   ]
  },
  {
   "cell_type": "code",
   "execution_count": null,
   "metadata": {},
   "outputs": [],
   "source": [
    "# the input is K, C, U, lambda1, Lambda2 with shape mh * p, mu, rho, mu_max, k, the shape of A is mh * p \n",
    "def LRl1TV(K, C, A, U, Lambda1, Lambda2):\n",
    "    mu = 10 ** (-4)\n",
    "    mu_max = 10 ** 4\n",
    "    k = 0\n",
    "    terminate_flag = False\n",
    "    iter_num = 0\n",
    "    rho = 5\n",
    "    \n",
    "    while iter_num < 150:\n",
    "        iter_num += 1\n",
    "        print(\"this is \" + str(iter_num) + \"th iteration\")\n",
    "        K_next = k_subproblem(K, A, C, Lambda1)\n",
    "        C_next = c_subproblem(C, A, K_next, U, Lambda1, Lambda2)\n",
    "        print(type(U[0]))\n",
    "        if type(U)== tuple:\n",
    "            U = u_subproblem(U[0], Lambda2, C_next[0])\n",
    "        else:\n",
    "            U = u_subproblem(U, Lambda2, C_next[0])\n",
    "        mu = np.min((rho * mu, mu_max))\n",
    "        Lambda1, Lambda2 = update_multiplier(Lambda1, Lambda2)\n",
    "        \n",
    "        terminate_flag = False\n",
    "       \n",
    "        terminate_flag = tf.norm(A - K - C, ord=2) ** 2 <= 10 ** (-8) * (tf.norm(A, ord='euclidean') ** 2)\n",
    "        if terminate_flag == True:\n",
    "            break\n",
    "    return K, C\n",
    "        "
   ]
  },
  {
   "cell_type": "code",
   "execution_count": null,
   "metadata": {},
   "outputs": [],
   "source": [
    "K_res, C_res = LRl1TV(K, C, A, U, Lambda1, Lambda2)"
   ]
  },
  {
   "cell_type": "code",
   "execution_count": null,
   "metadata": {},
   "outputs": [],
   "source": [
    "from PIL import Image\n",
    "\n",
    "print(B_res.shape)\n",
    "im_output_sparse = Image.fromarray(F_res[:, :, 0].astype(np.uint8))\n",
    "if im_output_sparse.mode != 'RGB':\n",
    "    im_output_rank = im_output_sparse.convert('RGB')\n",
    "im_output_rank.save(\"./res/tvrpca.png\")"
   ]
  },
  {
   "cell_type": "code",
   "execution_count": null,
   "metadata": {},
   "outputs": [],
   "source": []
  }
 ],
 "metadata": {
  "kernelspec": {
   "display_name": "Python 3",
   "language": "python",
   "name": "python3"
  },
  "language_info": {
   "codemirror_mode": {
    "name": "ipython",
    "version": 3
   },
   "file_extension": ".py",
   "mimetype": "text/x-python",
   "name": "python",
   "nbconvert_exporter": "python",
   "pygments_lexer": "ipython3",
   "version": "3.7.6"
  }
 },
 "nbformat": 4,
 "nbformat_minor": 2
}
